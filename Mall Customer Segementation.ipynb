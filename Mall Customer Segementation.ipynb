{
 "cells": [
  {
   "cell_type": "code",
   "execution_count": 31,
   "id": "driving-metabolism",
   "metadata": {},
   "outputs": [],
   "source": [
    "import numpy as np\n",
    "import pandas as pd\n",
    "import matplotlib.pyplot as plt\n",
    "import seaborn as sns\n",
    "\n",
    "import matplotlib.colors as mcolors\n",
    "import random"
   ]
  },
  {
   "cell_type": "code",
   "execution_count": 111,
   "id": "honest-suspect",
   "metadata": {},
   "outputs": [
    {
     "data": {
      "text/html": [
       "<div>\n",
       "<style scoped>\n",
       "    .dataframe tbody tr th:only-of-type {\n",
       "        vertical-align: middle;\n",
       "    }\n",
       "\n",
       "    .dataframe tbody tr th {\n",
       "        vertical-align: top;\n",
       "    }\n",
       "\n",
       "    .dataframe thead th {\n",
       "        text-align: right;\n",
       "    }\n",
       "</style>\n",
       "<table border=\"1\" class=\"dataframe\">\n",
       "  <thead>\n",
       "    <tr style=\"text-align: right;\">\n",
       "      <th></th>\n",
       "      <th>Age</th>\n",
       "      <th>Annual Income (k$)</th>\n",
       "      <th>Spending Score (1-100)</th>\n",
       "      <th>Gender_Female</th>\n",
       "    </tr>\n",
       "    <tr>\n",
       "      <th>CustomerID</th>\n",
       "      <th></th>\n",
       "      <th></th>\n",
       "      <th></th>\n",
       "      <th></th>\n",
       "    </tr>\n",
       "  </thead>\n",
       "  <tbody>\n",
       "    <tr>\n",
       "      <th>1</th>\n",
       "      <td>19</td>\n",
       "      <td>15</td>\n",
       "      <td>39</td>\n",
       "      <td>0</td>\n",
       "    </tr>\n",
       "    <tr>\n",
       "      <th>2</th>\n",
       "      <td>21</td>\n",
       "      <td>15</td>\n",
       "      <td>81</td>\n",
       "      <td>0</td>\n",
       "    </tr>\n",
       "    <tr>\n",
       "      <th>3</th>\n",
       "      <td>20</td>\n",
       "      <td>16</td>\n",
       "      <td>6</td>\n",
       "      <td>1</td>\n",
       "    </tr>\n",
       "    <tr>\n",
       "      <th>4</th>\n",
       "      <td>23</td>\n",
       "      <td>16</td>\n",
       "      <td>77</td>\n",
       "      <td>1</td>\n",
       "    </tr>\n",
       "    <tr>\n",
       "      <th>5</th>\n",
       "      <td>31</td>\n",
       "      <td>17</td>\n",
       "      <td>40</td>\n",
       "      <td>1</td>\n",
       "    </tr>\n",
       "    <tr>\n",
       "      <th>...</th>\n",
       "      <td>...</td>\n",
       "      <td>...</td>\n",
       "      <td>...</td>\n",
       "      <td>...</td>\n",
       "    </tr>\n",
       "    <tr>\n",
       "      <th>196</th>\n",
       "      <td>35</td>\n",
       "      <td>120</td>\n",
       "      <td>79</td>\n",
       "      <td>1</td>\n",
       "    </tr>\n",
       "    <tr>\n",
       "      <th>197</th>\n",
       "      <td>45</td>\n",
       "      <td>126</td>\n",
       "      <td>28</td>\n",
       "      <td>1</td>\n",
       "    </tr>\n",
       "    <tr>\n",
       "      <th>198</th>\n",
       "      <td>32</td>\n",
       "      <td>126</td>\n",
       "      <td>74</td>\n",
       "      <td>0</td>\n",
       "    </tr>\n",
       "    <tr>\n",
       "      <th>199</th>\n",
       "      <td>32</td>\n",
       "      <td>137</td>\n",
       "      <td>18</td>\n",
       "      <td>0</td>\n",
       "    </tr>\n",
       "    <tr>\n",
       "      <th>200</th>\n",
       "      <td>30</td>\n",
       "      <td>137</td>\n",
       "      <td>83</td>\n",
       "      <td>0</td>\n",
       "    </tr>\n",
       "  </tbody>\n",
       "</table>\n",
       "<p>200 rows × 4 columns</p>\n",
       "</div>"
      ],
      "text/plain": [
       "            Age  Annual Income (k$)  Spending Score (1-100)  Gender_Female\n",
       "CustomerID                                                                \n",
       "1            19                  15                      39              0\n",
       "2            21                  15                      81              0\n",
       "3            20                  16                       6              1\n",
       "4            23                  16                      77              1\n",
       "5            31                  17                      40              1\n",
       "...         ...                 ...                     ...            ...\n",
       "196          35                 120                      79              1\n",
       "197          45                 126                      28              1\n",
       "198          32                 126                      74              0\n",
       "199          32                 137                      18              0\n",
       "200          30                 137                      83              0\n",
       "\n",
       "[200 rows x 4 columns]"
      ]
     },
     "execution_count": 111,
     "metadata": {},
     "output_type": "execute_result"
    }
   ],
   "source": [
    "df = pd.read_csv(\"data/Mall_Customers.csv\", index_col=\"CustomerID\")\n",
    "df = pd.get_dummies(df).drop(\"Gender_Male\", axis=1)\n",
    "df"
   ]
  },
  {
   "cell_type": "code",
   "execution_count": 113,
   "id": "preceding-trace",
   "metadata": {},
   "outputs": [],
   "source": [
    "def get_closest_cluster(points, cluster_centers, dist_metric=\"L2\"):\n",
    "    # When dist_metric is L1, we apply L1 norm\n",
    "    if dist_metric == \"L1\":\n",
    "        order = 1\n",
    "    else:\n",
    "        # Default distance metric for np.linalg.norm is L2\n",
    "        order = None\n",
    "    return np.argmin([np.linalg.norm(points - x, axis=1, ord=order) for x in cluster_centers], axis=0)\n",
    "\n",
    "\n",
    "# Given the data points and their cluster assignments, this function adjusts the cluster centers\n",
    "def get_new_cluster_centers(points, cluster_assn, cluster_centers, dist_metric=\"L2\"):\n",
    "    # List of numpy arrays representing each pixel in each cluster\n",
    "    data = [points[np.where(cluster_assn == x)] for x in range(len(cluster_centers))]\n",
    "\n",
    "    # Only re-adjusting cluster centers for non-empty clusters, removing empty ones\n",
    "    # by checking if len(data belonging to cluster x) > 0\n",
    "\n",
    "    # If distance metric is L1, we use the k-median function\n",
    "    if dist_metric == \"L1\":\n",
    "        new_cluster_centers = np.array([x.median(axis=0) for x in data if len(x) > 0])\n",
    "    else:\n",
    "        # Otherwise, we use k-means function\n",
    "        new_cluster_centers = np.array([x.mean(axis=0) for x in data if len(x) > 0])\n",
    "    return new_cluster_centers\n",
    "\n",
    "\n",
    "# Runs k-means algorithm on pixels\n",
    "def kmeans_run(points, K, dist_metric=\"L2\"):\n",
    "    # np.random.seed(42)\n",
    "\n",
    "    # Random initialization of K data points to be cluster centers\n",
    "    old_cluster_centers = points[np.random.choice(len(points), K, replace=False)]\n",
    "\n",
    "    # Assign each pixel to its nearest cluster\n",
    "    cluster_assns = get_closest_cluster(points, old_cluster_centers, dist_metric)\n",
    "\n",
    "    # Number of iterations, i\n",
    "    i = 1\n",
    "\n",
    "    # Do until cluster centers do not change\n",
    "    while True:\n",
    "\n",
    "        # For each cluster, calculate the new cluster centroid to be the mean\n",
    "        cluster_centers = get_new_cluster_centers(points, cluster_assns, old_cluster_centers, dist_metric)\n",
    "\n",
    "        # Assign each point to the closest cluster center\n",
    "        cluster_assns = get_closest_cluster(points, cluster_centers, dist_metric)\n",
    "\n",
    "        # Check if the cluster centers have changed; If yes, algorithm has reached convergence\n",
    "        if (cluster_centers.size == old_cluster_centers.size) and (\n",
    "                np.equal(cluster_centers, old_cluster_centers).sum() == old_cluster_centers.size):\n",
    "            break\n",
    "        i += 1\n",
    "\n",
    "        # Storing cluster centers in variable old_cluster_centers for comparison later\n",
    "        old_cluster_centers = cluster_centers\n",
    "\n",
    "    # Only returning non-empty clusters. If an empty cluster was deleted, send a message to the user;\n",
    "    k = len(cluster_centers)\n",
    "    if K > k:\n",
    "        print(f\"Current value of K producing empty cluster. Reducing K from {K} to {k}\")\n",
    "    return cluster_assns, cluster_centers, i, k"
   ]
  },
  {
   "cell_type": "markdown",
   "id": "national-volume",
   "metadata": {},
   "source": [
    "# With Gender"
   ]
  },
  {
   "cell_type": "code",
   "execution_count": 112,
   "id": "muslim-inspection",
   "metadata": {},
   "outputs": [],
   "source": [
    "data = np.array(df)"
   ]
  },
  {
   "cell_type": "code",
   "execution_count": 114,
   "id": "medical-occupation",
   "metadata": {},
   "outputs": [
    {
     "data": {
      "text/plain": [
       "(array([3, 3, 2, 3, 3, 3, 2, 3, 2, 3, 2, 3, 2, 3, 2, 3, 2, 3, 2, 3, 2, 3,\n",
       "        2, 3, 2, 3, 2, 3, 2, 3, 2, 3, 2, 3, 2, 3, 2, 3, 2, 3, 2, 3, 2, 3,\n",
       "        2, 3, 2, 3, 2, 2, 2, 3, 3, 2, 2, 2, 2, 2, 3, 2, 2, 3, 2, 2, 2, 3,\n",
       "        2, 2, 3, 2, 2, 2, 2, 2, 2, 3, 2, 2, 3, 2, 2, 2, 2, 2, 3, 2, 2, 3,\n",
       "        3, 2, 2, 3, 2, 2, 2, 3, 2, 3, 2, 3, 2, 2, 2, 3, 2, 3, 2, 2, 2, 2,\n",
       "        2, 3, 2, 3, 3, 3, 2, 2, 2, 2, 3, 2, 1, 1, 0, 1, 0, 1, 0, 1, 0, 1,\n",
       "        0, 1, 0, 1, 0, 1, 0, 1, 0, 1, 0, 1, 0, 1, 0, 1, 0, 1, 0, 1, 0, 1,\n",
       "        0, 1, 0, 1, 0, 1, 0, 1, 0, 1, 0, 1, 0, 1, 0, 1, 0, 1, 0, 1, 0, 1,\n",
       "        0, 1, 0, 1, 0, 1, 0, 1, 0, 1, 0, 1, 0, 1, 0, 1, 0, 1, 0, 1, 0, 1,\n",
       "        0, 1]),\n",
       " array([[40.39473684, 87.        , 18.63157895,  0.47368421],\n",
       "        [32.875     , 86.1       , 81.525     ,  0.55      ],\n",
       "        [50.60810811, 46.58108108, 40.25675676,  0.60810811],\n",
       "        [24.47916667, 39.89583333, 64.41666667,  0.5625    ]]),\n",
       " 15,\n",
       " 4)"
      ]
     },
     "execution_count": 114,
     "metadata": {},
     "output_type": "execute_result"
    }
   ],
   "source": [
    "K=4\n",
    "kmeans_run(data, K)"
   ]
  },
  {
   "cell_type": "code",
   "execution_count": 115,
   "id": "alien-soundtrack",
   "metadata": {
    "scrolled": true
   },
   "outputs": [],
   "source": [
    "cluster_assns, cluster_centers, i, k = kmeans_run(data, 4)"
   ]
  },
  {
   "cell_type": "code",
   "execution_count": 116,
   "id": "later-animal",
   "metadata": {},
   "outputs": [
    {
     "data": {
      "text/plain": [
       "200"
      ]
     },
     "execution_count": 116,
     "metadata": {},
     "output_type": "execute_result"
    }
   ],
   "source": [
    "len(cluster_assns)"
   ]
  },
  {
   "cell_type": "code",
   "execution_count": 117,
   "id": "caring-projection",
   "metadata": {},
   "outputs": [],
   "source": [
    "from sklearn.decomposition import PCA"
   ]
  },
  {
   "cell_type": "code",
   "execution_count": 118,
   "id": "tender-charleston",
   "metadata": {},
   "outputs": [],
   "source": [
    "pca_model = PCA(2)"
   ]
  },
  {
   "cell_type": "code",
   "execution_count": 119,
   "id": "satellite-rouge",
   "metadata": {},
   "outputs": [],
   "source": [
    "data = np.array(df)\n",
    "reduced_data = pca_model.fit_transform(data)"
   ]
  },
  {
   "cell_type": "code",
   "execution_count": 120,
   "id": "diagnostic-ground",
   "metadata": {},
   "outputs": [
    {
     "data": {
      "text/plain": [
       "array([[-3.18699448e+01, -3.30012521e+01],\n",
       "       [ 7.64494048e-01, -5.68429006e+01],\n",
       "       [-5.74082757e+01, -1.31249607e+01],\n",
       "       [-2.16854252e+00, -5.34785900e+01],\n",
       "       [-3.21740846e+01, -3.03884119e+01],\n",
       "       [-2.17695183e+00, -5.22272685e+01],\n",
       "       [-5.90656895e+01, -9.54376302e+00],\n",
       "       [ 1.23708622e+01, -6.16180208e+01],\n",
       "       [-6.63157690e+01, -3.21423160e+00],\n",
       "       [-5.65556212e+00, -4.72672225e+01],\n",
       "       [-5.82365979e+01, -9.13418751e+00],\n",
       "       [ 1.46218043e+01, -6.21075685e+01],\n",
       "       [-5.51608374e+01, -1.00799251e+01],\n",
       "       [-3.02878331e-03, -5.01140754e+01],\n",
       "       [-5.27646657e+01, -1.16807468e+01],\n",
       "       [ 1.94661180e+00, -5.15222086e+01],\n",
       "       [-3.45055496e+01, -2.37615402e+01],\n",
       "       [-7.30493262e+00, -4.35151138e+01],\n",
       "       [-4.12573070e+01, -1.64734737e+01],\n",
       "       [ 1.61902860e+01, -5.83001207e+01],\n",
       "       [-3.27400141e+01, -2.13347966e+01],\n",
       "       [-9.81885245e-01, -4.44524038e+01],\n",
       "       [-5.78100898e+01, -1.87057486e+00],\n",
       "       [-1.52712624e+00, -4.28582471e+01],\n",
       "       [-5.04819556e+01, -3.56276971e+00],\n",
       "       [ 7.69078091e+00, -4.58600560e+01],\n",
       "       [-3.46329913e+01, -1.50715244e+01],\n",
       "       [-9.94927953e+00, -3.30225018e+01],\n",
       "       [-3.38854915e+01, -1.43440485e+01],\n",
       "       [ 1.33436470e+01, -4.87084876e+01],\n",
       "       [-5.82990002e+01,  4.58029961e+00],\n",
       "       [ 3.30609318e+00, -4.01274983e+01],\n",
       "       [-5.52102909e+01,  6.08873470e+00],\n",
       "       [ 2.05727386e+01, -4.89976354e+01],\n",
       "       [-4.65939553e+01, -1.75635193e-01],\n",
       "       [ 1.13600364e+01, -4.22934898e+01],\n",
       "       [-4.23244634e+01, -2.00566039e+00],\n",
       "       [ 3.95978859e+00, -3.57152924e+01],\n",
       "       [-3.23506471e+01, -5.53131490e+00],\n",
       "       [ 9.18744850e+00, -3.57475306e+01],\n",
       "       [-3.01682815e+01, -6.09009687e+00],\n",
       "       [ 2.23819886e+01, -4.41699255e+01],\n",
       "       [-2.55813682e+01, -8.08036828e+00],\n",
       "       [-2.71818732e+00, -2.46556548e+01],\n",
       "       [-3.20580877e+01, -3.35982914e+00],\n",
       "       [ 1.74869118e+00, -2.78679628e+01],\n",
       "       [-1.04361893e+01, -1.79156325e+01],\n",
       "       [-1.23777865e+01, -1.63365883e+01],\n",
       "       [-1.66857879e+01, -1.32051927e+01],\n",
       "       [-1.70637425e+01, -1.29432699e+01],\n",
       "       [-1.14279946e+01, -1.47081336e+01],\n",
       "       [-2.11661573e+00, -2.13930938e+01],\n",
       "       [-5.86576186e+00, -1.74048397e+01],\n",
       "       [-6.44140255e+00, -1.71797090e+01],\n",
       "       [-1.65304147e+01, -9.75152197e+00],\n",
       "       [-1.91078530e+01, -7.84724924e+00],\n",
       "       [-1.22007224e+01, -1.16816450e+01],\n",
       "       [-1.87466838e+01, -7.02718282e+00],\n",
       "       [-5.70201253e+00, -1.37818367e+01],\n",
       "       [-1.45458017e+01, -7.50578867e+00],\n",
       "       [-9.89832195e+00, -1.10183904e+01],\n",
       "       [-1.04648946e+00, -1.71235274e+01],\n",
       "       [-1.18864721e+01, -8.30888676e+00],\n",
       "       [-3.92770171e+00, -1.40286469e+01],\n",
       "       [-1.13282822e+01, -7.44887080e+00],\n",
       "       [ 3.46377080e+00, -1.79332904e+01],\n",
       "       [-8.33441304e+00, -9.49578304e+00],\n",
       "       [-1.46308641e+01, -5.07395882e+00],\n",
       "       [ 3.27479351e+00, -1.78023290e+01],\n",
       "       [-8.61369094e+00, -9.21467482e+00],\n",
       "       [-8.91846305e+00, -8.01933089e+00],\n",
       "       [-1.47897744e+01, -3.57239266e+00],\n",
       "       [-1.11557908e+01, -5.07876799e+00],\n",
       "       [-5.65372529e+00, -9.09602989e+00],\n",
       "       [-1.01846740e+01, -8.26808341e-01],\n",
       "       [ 1.55364218e+00, -9.16579658e+00],\n",
       "       [-2.82260299e+00, -6.10521405e+00],\n",
       "       [-5.80809610e+00, -3.88896958e+00],\n",
       "       [ 5.48888047e-01, -8.41247039e+00],\n",
       "       [-1.22246152e+01,  7.31471686e-01],\n",
       "       [-6.66268195e+00, -3.38430938e+00],\n",
       "       [ 7.19240500e-02, -8.16815429e+00],\n",
       "       [-1.64125485e+01,  3.66425023e+00],\n",
       "       [-1.00856646e+01, -8.09201640e-01],\n",
       "       [ 4.85688946e+00, -1.15438660e+01],\n",
       "       [-8.89193316e+00, -1.69348923e+00],\n",
       "       [ 9.83539194e-01, -5.23990787e+00],\n",
       "       [ 4.86176170e+00, -7.83995054e+00],\n",
       "       [ 7.11270380e+00, -8.32949817e+00],\n",
       "       [-6.91506399e+00,  1.80040810e+00],\n",
       "       [-2.65394818e+00, -1.98949328e-01],\n",
       "       [-4.20954748e+00,  1.28908296e+00],\n",
       "       [-3.00216853e+00,  1.43515694e+00],\n",
       "       [-8.56410176e+00,  5.55093801e+00],\n",
       "       [-5.48026470e+00,  3.35545766e+00],\n",
       "       [ 3.89131456e+00, -3.42960043e+00],\n",
       "       [-4.38487724e+00,  2.45040594e+00],\n",
       "       [ 1.75269668e+00, -1.89050582e+00],\n",
       "       [-7.91561133e+00,  6.26080715e+00],\n",
       "       [ 2.87781838e+00, -1.42337407e+00],\n",
       "       [-3.38823294e+00,  4.36747619e+00],\n",
       "       [-2.79957694e+00,  3.75521081e+00],\n",
       "       [ 2.44460212e+00, -1.98745323e-01],\n",
       "       [ 7.04863359e+00, -3.27258468e+00],\n",
       "       [ 3.48816526e+00, -8.34366932e-01],\n",
       "       [-2.22426899e+00,  3.53165883e+00],\n",
       "       [-3.85154940e+00,  5.64215388e+00],\n",
       "       [-4.72819210e+00,  6.36777396e+00],\n",
       "       [-9.73190228e+00,  9.92291729e+00],\n",
       "       [-5.42390087e+00,  6.79152170e+00],\n",
       "       [-2.09088611e+00,  4.36498207e+00],\n",
       "       [ 8.17442075e+00, -2.80861035e+00],\n",
       "       [-4.25963743e+00,  7.37477932e+00],\n",
       "       [ 2.47463584e+00,  2.59251312e+00],\n",
       "       [ 4.82458735e+00,  2.12057220e+00],\n",
       "       [ 6.20762879e+00,  1.10374449e+00],\n",
       "       [-7.60943758e+00,  1.08833082e+01],\n",
       "       [ 7.61239435e+00, -1.32464390e-01],\n",
       "       [-4.16446458e+00,  1.09285479e+01],\n",
       "       [ 7.02864384e+00,  2.76306274e+00],\n",
       "       [ 1.05887794e+01,  3.26423711e-01],\n",
       "       [-4.06578789e+00,  1.09477334e+01],\n",
       "       [ 1.08816716e+01,  2.49633076e+00],\n",
       "       [ 3.70086253e+01, -1.65715723e+01],\n",
       "       [-8.11136329e+00,  1.77213173e+01],\n",
       "       [ 2.81052680e+01, -8.77793015e+00],\n",
       "       [-6.58656288e+00,  1.77071451e+01],\n",
       "       [ 4.11409310e+01, -1.71194125e+01],\n",
       "       [-2.84744243e+01,  3.35759969e+01],\n",
       "       [ 2.57986982e+01, -5.90344419e+00],\n",
       "       [-2.77787156e+01,  3.31522492e+01],\n",
       "       [ 2.56097209e+01, -5.77248278e+00],\n",
       "       [-3.38202552e+00,  1.67305440e+01],\n",
       "       [ 2.45664573e+01, -3.71778619e+00],\n",
       "       [-2.46431207e+01,  3.35286461e+01],\n",
       "       [ 3.88951938e+01, -1.29275282e+01],\n",
       "       [-2.76062242e+01,  3.55223520e+01],\n",
       "       [ 2.65377888e+01, -3.92464688e+00],\n",
       "       [-1.99354738e+01,  3.13366002e+01],\n",
       "       [ 2.57738030e+01, -2.15105852e+00],\n",
       "       [-3.04577022e+01,  3.99894160e+01],\n",
       "       [ 4.34352216e+01, -1.37857614e+01],\n",
       "       [ 3.12158982e+00,  1.69136141e+01],\n",
       "       [ 3.93081209e+01, -9.53558446e+00],\n",
       "       [-1.77314505e+01,  3.33997445e+01],\n",
       "       [ 4.85124137e+01, -1.49884086e+01],\n",
       "       [-3.21370344e+00,  2.26383874e+01],\n",
       "       [ 2.96786219e+01, -1.26656692e+00],\n",
       "       [-1.09831970e+01,  2.96462611e+01],\n",
       "       [ 4.24651072e+01, -9.37699000e+00],\n",
       "       [-1.66143722e+01,  3.36959653e+01],\n",
       "       [ 3.99482020e+01, -7.57439386e+00],\n",
       "       [-1.44449887e+01,  3.21036643e+01],\n",
       "       [ 3.07053996e+01, -8.20199299e-01],\n",
       "       [-1.81559580e+01,  3.47921267e+01],\n",
       "       [ 4.30022716e+01, -9.72140398e+00],\n",
       "       [-2.80566583e+01,  4.20925098e+01],\n",
       "       [ 3.37892367e+01, -3.01567965e+00],\n",
       "       [-2.74897264e+01,  4.16996255e+01],\n",
       "       [ 2.98591898e+01, -1.46206864e-01],\n",
       "       [-4.33395289e+00,  2.58751711e+01],\n",
       "       [ 3.84968836e+01, -5.20772553e+00],\n",
       "       [-1.97451613e+01,  3.98647912e+01],\n",
       "       [ 4.71562681e+01, -9.06797167e+00],\n",
       "       [-6.74276964e+00,  3.51063622e+01],\n",
       "       [ 3.44177041e+01,  5.15049060e+00],\n",
       "       [-9.35838475e+00,  3.83104267e+01],\n",
       "       [ 5.12934461e+01, -5.91189643e+00],\n",
       "       [-2.13349996e+00,  3.43142059e+01],\n",
       "       [ 2.69184137e+01,  1.31317350e+01],\n",
       "       [-1.38938730e+01,  4.28741541e+01],\n",
       "       [ 3.71064352e+01,  5.72115470e+00],\n",
       "       [-1.54959919e+01,  4.40719921e+01],\n",
       "       [ 4.89567761e+01, -2.98736153e+00],\n",
       "       [-1.55726450e+01,  4.52525005e+01],\n",
       "       [ 4.59635392e+01,  4.77046978e-01],\n",
       "       [-1.51348227e+01,  4.48920585e+01],\n",
       "       [ 3.31679791e+01,  9.84194894e+00],\n",
       "       [-1.31666956e+01,  4.96388560e+01],\n",
       "       [ 5.11054712e+01,  2.87979602e+00],\n",
       "       [ 7.49379714e+00,  3.96595776e+01],\n",
       "       [ 5.08831894e+01,  8.01446456e+00],\n",
       "       [-6.98086768e+00,  5.14044048e+01],\n",
       "       [ 5.36107627e+01,  7.28217954e+00],\n",
       "       [ 1.34171991e+01,  3.77829380e+01],\n",
       "       [ 6.10841598e+01,  3.05805695e+00],\n",
       "       [ 3.47599286e-01,  4.97106312e+01],\n",
       "       [ 3.98450882e+01,  2.10558529e+01],\n",
       "       [-1.52051598e+00,  5.36421714e+01],\n",
       "       [ 5.28730074e+01,  1.39625346e+01],\n",
       "       [ 4.51838126e+00,  4.92820743e+01],\n",
       "       [ 4.10527667e+01,  2.26210019e+01],\n",
       "       [-1.19688712e+00,  6.58449930e+01],\n",
       "       [ 6.30973366e+01,  1.88649731e+01],\n",
       "       [ 6.56619775e+00,  6.87444357e+01],\n",
       "       [ 5.83525153e+01,  3.10175417e+01],\n",
       "       [ 1.99080013e+01,  6.64461080e+01],\n",
       "       [ 5.85208042e+01,  3.83460389e+01],\n",
       "       [ 2.09791300e+01,  7.93764054e+01],\n",
       "       [ 7.24476934e+01,  4.18113364e+01]])"
      ]
     },
     "execution_count": 120,
     "metadata": {},
     "output_type": "execute_result"
    }
   ],
   "source": [
    "reduced_data"
   ]
  },
  {
   "cell_type": "code",
   "execution_count": 121,
   "id": "fossil-drove",
   "metadata": {},
   "outputs": [
    {
     "data": {
      "text/plain": [
       "array([0, 0, 3, 0, 3, 0, 3, 0, 3, 0, 3, 0, 3, 0, 3, 0, 3, 0, 3, 0, 3, 0,\n",
       "       3, 0, 3, 0, 3, 0, 3, 0, 3, 0, 3, 0, 3, 0, 3, 0, 3, 0, 3, 0, 3, 0,\n",
       "       3, 0, 3, 3, 3, 3, 3, 0, 3, 3, 3, 3, 3, 3, 3, 3, 3, 0, 3, 3, 3, 0,\n",
       "       3, 3, 0, 3, 3, 3, 3, 3, 3, 3, 3, 3, 3, 3, 3, 3, 3, 3, 3, 3, 3, 3,\n",
       "       3, 3, 3, 3, 3, 3, 3, 3, 3, 3, 3, 3, 3, 3, 3, 3, 3, 3, 3, 3, 3, 3,\n",
       "       3, 3, 3, 3, 3, 3, 3, 3, 3, 3, 3, 3, 3, 2, 1, 2, 1, 2, 1, 2, 1, 2,\n",
       "       1, 2, 1, 2, 1, 2, 1, 2, 1, 2, 1, 2, 1, 2, 1, 2, 1, 2, 1, 2, 1, 2,\n",
       "       1, 2, 1, 2, 1, 2, 1, 2, 1, 2, 1, 2, 1, 2, 1, 2, 1, 2, 1, 2, 1, 2,\n",
       "       1, 2, 1, 2, 1, 2, 1, 2, 1, 2, 1, 2, 1, 2, 1, 2, 1, 2, 1, 2, 1, 2,\n",
       "       1, 2])"
      ]
     },
     "execution_count": 121,
     "metadata": {},
     "output_type": "execute_result"
    }
   ],
   "source": [
    "cluster_assns"
   ]
  },
  {
   "cell_type": "code",
   "execution_count": 122,
   "id": "structural-gilbert",
   "metadata": {
    "scrolled": false
   },
   "outputs": [
    {
     "data": {
      "image/png": "[encoded data removed]",
      "text/plain": [
       "<Figure size 720x360 with 1 Axes>"
      ]
     },
     "metadata": {
      "needs_background": "light"
     },
     "output_type": "display_data"
    }
   ],
   "source": [
    "all_colors = list(mcolors.cnames.keys())\n",
    "colors = random.sample(all_colors, len(cluster_centers))\n",
    "plt.figure(figsize=(10,5))\n",
    "for cluster in range(len(cluster_centers)):\n",
    "    data = reduced_data[cluster_assns==cluster]\n",
    "    plt.scatter(data[:,0], data[:,1], label=f\"Cluster {cluster}\")\n",
    "plt.legend();"
   ]
  },
  {
   "cell_type": "code",
   "execution_count": 134,
   "id": "macro-village",
   "metadata": {},
   "outputs": [
    {
     "data": {
      "text/plain": [
       "array([0, 1], dtype=uint8)"
      ]
     },
     "execution_count": 134,
     "metadata": {},
     "output_type": "execute_result"
    }
   ],
   "source": [
    "df['Gender_Female'].unique()"
   ]
  },
  {
   "cell_type": "code",
   "execution_count": 136,
   "id": "numerous-violence",
   "metadata": {},
   "outputs": [
    {
     "data": {
      "image/png": "[encoded data removed]",
      "text/plain": [
       "<Figure size 720x360 with 1 Axes>"
      ]
     },
     "metadata": {
      "needs_background": "light"
     },
     "output_type": "display_data"
    }
   ],
   "source": [
    "plt.figure(figsize=(10,5))\n",
    "for gender in df['Gender_Female'].unique():\n",
    "    data = reduced_data[df['Gender_Female']==gender]\n",
    "    plt.scatter(data[:,0], data[:,1], label=f\"Gender {gender}\")\n",
    "plt.legend();"
   ]
  },
  {
   "cell_type": "markdown",
   "id": "equivalent-compiler",
   "metadata": {},
   "source": [
    "# Without Gender"
   ]
  },
  {
   "cell_type": "code",
   "execution_count": 123,
   "id": "exposed-mounting",
   "metadata": {},
   "outputs": [],
   "source": [
    "data = np.array(df.drop(\"Gender_Female\", axis=1))"
   ]
  },
  {
   "cell_type": "code",
   "execution_count": 124,
   "id": "elementary-ebony",
   "metadata": {},
   "outputs": [
    {
     "data": {
      "text/plain": [
       "(array([2, 2, 3, 2, 3, 2, 3, 2, 3, 2, 3, 2, 3, 2, 3, 2, 3, 2, 3, 2, 3, 2,\n",
       "        3, 2, 3, 2, 3, 2, 3, 2, 3, 2, 3, 2, 3, 2, 3, 2, 3, 2, 3, 2, 3, 2,\n",
       "        3, 2, 3, 3, 3, 3, 3, 2, 3, 3, 3, 3, 3, 3, 3, 3, 3, 2, 3, 3, 3, 2,\n",
       "        3, 3, 2, 3, 3, 3, 3, 3, 3, 3, 3, 3, 3, 3, 3, 3, 3, 3, 3, 3, 3, 3,\n",
       "        3, 3, 3, 3, 3, 3, 3, 3, 3, 3, 3, 3, 3, 3, 3, 3, 3, 3, 3, 3, 3, 3,\n",
       "        3, 3, 3, 3, 3, 3, 3, 3, 3, 3, 3, 3, 3, 1, 0, 1, 0, 1, 0, 1, 0, 1,\n",
       "        0, 1, 0, 1, 0, 1, 0, 1, 0, 1, 0, 1, 0, 1, 0, 1, 0, 1, 0, 1, 0, 1,\n",
       "        0, 1, 0, 1, 0, 1, 0, 1, 0, 1, 0, 1, 0, 1, 0, 1, 0, 1, 0, 1, 0, 1,\n",
       "        0, 1, 0, 1, 0, 1, 0, 1, 0, 1, 0, 1, 0, 1, 0, 1, 0, 1, 0, 1, 0, 1,\n",
       "        0, 1]),\n",
       " array([[40.39473684, 87.        , 18.63157895],\n",
       "        [32.69230769, 86.53846154, 82.12820513],\n",
       "        [24.82142857, 28.71428571, 74.25      ],\n",
       "        [44.89473684, 48.70526316, 42.63157895]]),\n",
       " 10,\n",
       " 4)"
      ]
     },
     "execution_count": 124,
     "metadata": {},
     "output_type": "execute_result"
    }
   ],
   "source": [
    "K=4\n",
    "kmeans_run(data, K)"
   ]
  },
  {
   "cell_type": "code",
   "execution_count": 125,
   "id": "micro-weekly",
   "metadata": {
    "scrolled": true
   },
   "outputs": [],
   "source": [
    "cluster_assns, cluster_centers, i, k = kmeans_run(data, 4)"
   ]
  },
  {
   "cell_type": "code",
   "execution_count": 126,
   "id": "higher-westminster",
   "metadata": {},
   "outputs": [
    {
     "data": {
      "text/plain": [
       "200"
      ]
     },
     "execution_count": 126,
     "metadata": {},
     "output_type": "execute_result"
    }
   ],
   "source": [
    "len(cluster_assns)"
   ]
  },
  {
   "cell_type": "code",
   "execution_count": 127,
   "id": "outside-martin",
   "metadata": {},
   "outputs": [],
   "source": [
    "from sklearn.decomposition import PCA"
   ]
  },
  {
   "cell_type": "code",
   "execution_count": 128,
   "id": "significant-subscriber",
   "metadata": {},
   "outputs": [],
   "source": [
    "pca_model = PCA(2)"
   ]
  },
  {
   "cell_type": "code",
   "execution_count": 129,
   "id": "premium-overview",
   "metadata": {},
   "outputs": [],
   "source": [
    "data = np.array(df)\n",
    "reduced_data = pca_model.fit_transform(data)"
   ]
  },
  {
   "cell_type": "code",
   "execution_count": 130,
   "id": "twelve-warning",
   "metadata": {},
   "outputs": [
    {
     "data": {
      "text/plain": [
       "array([[-3.18699448e+01, -3.30012521e+01],\n",
       "       [ 7.64494048e-01, -5.68429006e+01],\n",
       "       [-5.74082757e+01, -1.31249607e+01],\n",
       "       [-2.16854252e+00, -5.34785900e+01],\n",
       "       [-3.21740846e+01, -3.03884119e+01],\n",
       "       [-2.17695183e+00, -5.22272685e+01],\n",
       "       [-5.90656895e+01, -9.54376302e+00],\n",
       "       [ 1.23708622e+01, -6.16180208e+01],\n",
       "       [-6.63157690e+01, -3.21423160e+00],\n",
       "       [-5.65556212e+00, -4.72672225e+01],\n",
       "       [-5.82365979e+01, -9.13418751e+00],\n",
       "       [ 1.46218043e+01, -6.21075685e+01],\n",
       "       [-5.51608374e+01, -1.00799251e+01],\n",
       "       [-3.02878331e-03, -5.01140754e+01],\n",
       "       [-5.27646657e+01, -1.16807468e+01],\n",
       "       [ 1.94661180e+00, -5.15222086e+01],\n",
       "       [-3.45055496e+01, -2.37615402e+01],\n",
       "       [-7.30493262e+00, -4.35151138e+01],\n",
       "       [-4.12573070e+01, -1.64734737e+01],\n",
       "       [ 1.61902860e+01, -5.83001207e+01],\n",
       "       [-3.27400141e+01, -2.13347966e+01],\n",
       "       [-9.81885245e-01, -4.44524038e+01],\n",
       "       [-5.78100898e+01, -1.87057486e+00],\n",
       "       [-1.52712624e+00, -4.28582471e+01],\n",
       "       [-5.04819556e+01, -3.56276971e+00],\n",
       "       [ 7.69078091e+00, -4.58600560e+01],\n",
       "       [-3.46329913e+01, -1.50715244e+01],\n",
       "       [-9.94927953e+00, -3.30225018e+01],\n",
       "       [-3.38854915e+01, -1.43440485e+01],\n",
       "       [ 1.33436470e+01, -4.87084876e+01],\n",
       "       [-5.82990002e+01,  4.58029961e+00],\n",
       "       [ 3.30609318e+00, -4.01274983e+01],\n",
       "       [-5.52102909e+01,  6.08873470e+00],\n",
       "       [ 2.05727386e+01, -4.89976354e+01],\n",
       "       [-4.65939553e+01, -1.75635193e-01],\n",
       "       [ 1.13600364e+01, -4.22934898e+01],\n",
       "       [-4.23244634e+01, -2.00566039e+00],\n",
       "       [ 3.95978859e+00, -3.57152924e+01],\n",
       "       [-3.23506471e+01, -5.53131490e+00],\n",
       "       [ 9.18744850e+00, -3.57475306e+01],\n",
       "       [-3.01682815e+01, -6.09009687e+00],\n",
       "       [ 2.23819886e+01, -4.41699255e+01],\n",
       "       [-2.55813682e+01, -8.08036828e+00],\n",
       "       [-2.71818732e+00, -2.46556548e+01],\n",
       "       [-3.20580877e+01, -3.35982914e+00],\n",
       "       [ 1.74869118e+00, -2.78679628e+01],\n",
       "       [-1.04361893e+01, -1.79156325e+01],\n",
       "       [-1.23777865e+01, -1.63365883e+01],\n",
       "       [-1.66857879e+01, -1.32051927e+01],\n",
       "       [-1.70637425e+01, -1.29432699e+01],\n",
       "       [-1.14279946e+01, -1.47081336e+01],\n",
       "       [-2.11661573e+00, -2.13930938e+01],\n",
       "       [-5.86576186e+00, -1.74048397e+01],\n",
       "       [-6.44140255e+00, -1.71797090e+01],\n",
       "       [-1.65304147e+01, -9.75152197e+00],\n",
       "       [-1.91078530e+01, -7.84724924e+00],\n",
       "       [-1.22007224e+01, -1.16816450e+01],\n",
       "       [-1.87466838e+01, -7.02718282e+00],\n",
       "       [-5.70201253e+00, -1.37818367e+01],\n",
       "       [-1.45458017e+01, -7.50578867e+00],\n",
       "       [-9.89832195e+00, -1.10183904e+01],\n",
       "       [-1.04648946e+00, -1.71235274e+01],\n",
       "       [-1.18864721e+01, -8.30888676e+00],\n",
       "       [-3.92770171e+00, -1.40286469e+01],\n",
       "       [-1.13282822e+01, -7.44887080e+00],\n",
       "       [ 3.46377080e+00, -1.79332904e+01],\n",
       "       [-8.33441304e+00, -9.49578304e+00],\n",
       "       [-1.46308641e+01, -5.07395882e+00],\n",
       "       [ 3.27479351e+00, -1.78023290e+01],\n",
       "       [-8.61369094e+00, -9.21467482e+00],\n",
       "       [-8.91846305e+00, -8.01933089e+00],\n",
       "       [-1.47897744e+01, -3.57239266e+00],\n",
       "       [-1.11557908e+01, -5.07876799e+00],\n",
       "       [-5.65372529e+00, -9.09602989e+00],\n",
       "       [-1.01846740e+01, -8.26808341e-01],\n",
       "       [ 1.55364218e+00, -9.16579658e+00],\n",
       "       [-2.82260299e+00, -6.10521405e+00],\n",
       "       [-5.80809610e+00, -3.88896958e+00],\n",
       "       [ 5.48888047e-01, -8.41247039e+00],\n",
       "       [-1.22246152e+01,  7.31471686e-01],\n",
       "       [-6.66268195e+00, -3.38430938e+00],\n",
       "       [ 7.19240500e-02, -8.16815429e+00],\n",
       "       [-1.64125485e+01,  3.66425023e+00],\n",
       "       [-1.00856646e+01, -8.09201640e-01],\n",
       "       [ 4.85688946e+00, -1.15438660e+01],\n",
       "       [-8.89193316e+00, -1.69348923e+00],\n",
       "       [ 9.83539194e-01, -5.23990787e+00],\n",
       "       [ 4.86176170e+00, -7.83995054e+00],\n",
       "       [ 7.11270380e+00, -8.32949817e+00],\n",
       "       [-6.91506399e+00,  1.80040810e+00],\n",
       "       [-2.65394818e+00, -1.98949328e-01],\n",
       "       [-4.20954748e+00,  1.28908296e+00],\n",
       "       [-3.00216853e+00,  1.43515694e+00],\n",
       "       [-8.56410176e+00,  5.55093801e+00],\n",
       "       [-5.48026470e+00,  3.35545766e+00],\n",
       "       [ 3.89131456e+00, -3.42960043e+00],\n",
       "       [-4.38487724e+00,  2.45040594e+00],\n",
       "       [ 1.75269668e+00, -1.89050582e+00],\n",
       "       [-7.91561133e+00,  6.26080715e+00],\n",
       "       [ 2.87781838e+00, -1.42337407e+00],\n",
       "       [-3.38823294e+00,  4.36747619e+00],\n",
       "       [-2.79957694e+00,  3.75521081e+00],\n",
       "       [ 2.44460212e+00, -1.98745323e-01],\n",
       "       [ 7.04863359e+00, -3.27258468e+00],\n",
       "       [ 3.48816526e+00, -8.34366932e-01],\n",
       "       [-2.22426899e+00,  3.53165883e+00],\n",
       "       [-3.85154940e+00,  5.64215388e+00],\n",
       "       [-4.72819210e+00,  6.36777396e+00],\n",
       "       [-9.73190228e+00,  9.92291729e+00],\n",
       "       [-5.42390087e+00,  6.79152170e+00],\n",
       "       [-2.09088611e+00,  4.36498207e+00],\n",
       "       [ 8.17442075e+00, -2.80861035e+00],\n",
       "       [-4.25963743e+00,  7.37477932e+00],\n",
       "       [ 2.47463584e+00,  2.59251312e+00],\n",
       "       [ 4.82458735e+00,  2.12057220e+00],\n",
       "       [ 6.20762879e+00,  1.10374449e+00],\n",
       "       [-7.60943758e+00,  1.08833082e+01],\n",
       "       [ 7.61239435e+00, -1.32464390e-01],\n",
       "       [-4.16446458e+00,  1.09285479e+01],\n",
       "       [ 7.02864384e+00,  2.76306274e+00],\n",
       "       [ 1.05887794e+01,  3.26423711e-01],\n",
       "       [-4.06578789e+00,  1.09477334e+01],\n",
       "       [ 1.08816716e+01,  2.49633076e+00],\n",
       "       [ 3.70086253e+01, -1.65715723e+01],\n",
       "       [-8.11136329e+00,  1.77213173e+01],\n",
       "       [ 2.81052680e+01, -8.77793015e+00],\n",
       "       [-6.58656288e+00,  1.77071451e+01],\n",
       "       [ 4.11409310e+01, -1.71194125e+01],\n",
       "       [-2.84744243e+01,  3.35759969e+01],\n",
       "       [ 2.57986982e+01, -5.90344419e+00],\n",
       "       [-2.77787156e+01,  3.31522492e+01],\n",
       "       [ 2.56097209e+01, -5.77248278e+00],\n",
       "       [-3.38202552e+00,  1.67305440e+01],\n",
       "       [ 2.45664573e+01, -3.71778619e+00],\n",
       "       [-2.46431207e+01,  3.35286461e+01],\n",
       "       [ 3.88951938e+01, -1.29275282e+01],\n",
       "       [-2.76062242e+01,  3.55223520e+01],\n",
       "       [ 2.65377888e+01, -3.92464688e+00],\n",
       "       [-1.99354738e+01,  3.13366002e+01],\n",
       "       [ 2.57738030e+01, -2.15105852e+00],\n",
       "       [-3.04577022e+01,  3.99894160e+01],\n",
       "       [ 4.34352216e+01, -1.37857614e+01],\n",
       "       [ 3.12158982e+00,  1.69136141e+01],\n",
       "       [ 3.93081209e+01, -9.53558446e+00],\n",
       "       [-1.77314505e+01,  3.33997445e+01],\n",
       "       [ 4.85124137e+01, -1.49884086e+01],\n",
       "       [-3.21370344e+00,  2.26383874e+01],\n",
       "       [ 2.96786219e+01, -1.26656692e+00],\n",
       "       [-1.09831970e+01,  2.96462611e+01],\n",
       "       [ 4.24651072e+01, -9.37699000e+00],\n",
       "       [-1.66143722e+01,  3.36959653e+01],\n",
       "       [ 3.99482020e+01, -7.57439386e+00],\n",
       "       [-1.44449887e+01,  3.21036643e+01],\n",
       "       [ 3.07053996e+01, -8.20199299e-01],\n",
       "       [-1.81559580e+01,  3.47921267e+01],\n",
       "       [ 4.30022716e+01, -9.72140398e+00],\n",
       "       [-2.80566583e+01,  4.20925098e+01],\n",
       "       [ 3.37892367e+01, -3.01567965e+00],\n",
       "       [-2.74897264e+01,  4.16996255e+01],\n",
       "       [ 2.98591898e+01, -1.46206864e-01],\n",
       "       [-4.33395289e+00,  2.58751711e+01],\n",
       "       [ 3.84968836e+01, -5.20772553e+00],\n",
       "       [-1.97451613e+01,  3.98647912e+01],\n",
       "       [ 4.71562681e+01, -9.06797167e+00],\n",
       "       [-6.74276964e+00,  3.51063622e+01],\n",
       "       [ 3.44177041e+01,  5.15049060e+00],\n",
       "       [-9.35838475e+00,  3.83104267e+01],\n",
       "       [ 5.12934461e+01, -5.91189643e+00],\n",
       "       [-2.13349996e+00,  3.43142059e+01],\n",
       "       [ 2.69184137e+01,  1.31317350e+01],\n",
       "       [-1.38938730e+01,  4.28741541e+01],\n",
       "       [ 3.71064352e+01,  5.72115470e+00],\n",
       "       [-1.54959919e+01,  4.40719921e+01],\n",
       "       [ 4.89567761e+01, -2.98736153e+00],\n",
       "       [-1.55726450e+01,  4.52525005e+01],\n",
       "       [ 4.59635392e+01,  4.77046978e-01],\n",
       "       [-1.51348227e+01,  4.48920585e+01],\n",
       "       [ 3.31679791e+01,  9.84194894e+00],\n",
       "       [-1.31666956e+01,  4.96388560e+01],\n",
       "       [ 5.11054712e+01,  2.87979602e+00],\n",
       "       [ 7.49379714e+00,  3.96595776e+01],\n",
       "       [ 5.08831894e+01,  8.01446456e+00],\n",
       "       [-6.98086768e+00,  5.14044048e+01],\n",
       "       [ 5.36107627e+01,  7.28217954e+00],\n",
       "       [ 1.34171991e+01,  3.77829380e+01],\n",
       "       [ 6.10841598e+01,  3.05805695e+00],\n",
       "       [ 3.47599286e-01,  4.97106312e+01],\n",
       "       [ 3.98450882e+01,  2.10558529e+01],\n",
       "       [-1.52051598e+00,  5.36421714e+01],\n",
       "       [ 5.28730074e+01,  1.39625346e+01],\n",
       "       [ 4.51838126e+00,  4.92820743e+01],\n",
       "       [ 4.10527667e+01,  2.26210019e+01],\n",
       "       [-1.19688712e+00,  6.58449930e+01],\n",
       "       [ 6.30973366e+01,  1.88649731e+01],\n",
       "       [ 6.56619775e+00,  6.87444357e+01],\n",
       "       [ 5.83525153e+01,  3.10175417e+01],\n",
       "       [ 1.99080013e+01,  6.64461080e+01],\n",
       "       [ 5.85208042e+01,  3.83460389e+01],\n",
       "       [ 2.09791300e+01,  7.93764054e+01],\n",
       "       [ 7.24476934e+01,  4.18113364e+01]])"
      ]
     },
     "execution_count": 130,
     "metadata": {},
     "output_type": "execute_result"
    }
   ],
   "source": [
    "reduced_data"
   ]
  },
  {
   "cell_type": "code",
   "execution_count": 131,
   "id": "rural-original",
   "metadata": {},
   "outputs": [
    {
     "data": {
      "text/plain": [
       "array([0, 0, 2, 0, 0, 0, 2, 0, 2, 0, 2, 0, 2, 0, 2, 0, 2, 0, 2, 0, 2, 0,\n",
       "       2, 0, 2, 0, 2, 0, 2, 0, 2, 0, 2, 0, 2, 0, 2, 0, 2, 0, 2, 0, 2, 0,\n",
       "       2, 0, 2, 0, 0, 2, 2, 0, 0, 2, 2, 2, 2, 2, 0, 2, 2, 0, 2, 2, 2, 0,\n",
       "       2, 2, 0, 0, 2, 2, 2, 2, 2, 0, 2, 2, 0, 2, 2, 0, 2, 2, 0, 2, 2, 0,\n",
       "       0, 2, 2, 0, 2, 2, 2, 0, 2, 0, 2, 0, 0, 2, 2, 0, 2, 0, 2, 2, 2, 2,\n",
       "       2, 0, 2, 0, 0, 0, 2, 2, 2, 2, 0, 2, 3, 3, 1, 3, 1, 3, 1, 3, 1, 3,\n",
       "       1, 3, 1, 3, 1, 3, 1, 3, 1, 3, 1, 3, 1, 3, 1, 3, 1, 3, 1, 3, 1, 3,\n",
       "       1, 3, 1, 3, 1, 3, 1, 3, 1, 3, 1, 3, 1, 3, 1, 3, 1, 3, 1, 3, 1, 3,\n",
       "       1, 3, 1, 3, 1, 3, 1, 3, 1, 3, 1, 3, 1, 3, 1, 3, 1, 3, 1, 3, 1, 3,\n",
       "       1, 3])"
      ]
     },
     "execution_count": 131,
     "metadata": {},
     "output_type": "execute_result"
    }
   ],
   "source": [
    "cluster_assns"
   ]
  },
  {
   "cell_type": "code",
   "execution_count": 132,
   "id": "threatened-longer",
   "metadata": {
    "scrolled": true
   },
   "outputs": [
    {
     "data": {
      "image/png": "[encoded data removed]",
      "text/plain": [
       "<Figure size 720x360 with 1 Axes>"
      ]
     },
     "metadata": {
      "needs_background": "light"
     },
     "output_type": "display_data"
    }
   ],
   "source": [
    "all_colors = list(mcolors.cnames.keys())\n",
    "colors = random.sample(all_colors, len(cluster_centers))\n",
    "plt.figure(figsize=(10,5))\n",
    "for cluster in range(len(cluster_centers)):\n",
    "    data = reduced_data[cluster_assns==cluster]\n",
    "    plt.scatter(data[:,0], data[:,1], label=f\"Cluster {cluster}\")\n",
    "plt.legend();"
   ]
  },
  {
   "cell_type": "code",
   "execution_count": 137,
   "id": "designed-country",
   "metadata": {},
   "outputs": [
    {
     "data": {
      "image/png": "[encoded data removed]",
      "text/plain": [
       "<Figure size 720x360 with 1 Axes>"
      ]
     },
     "metadata": {
      "needs_background": "light"
     },
     "output_type": "display_data"
    }
   ],
   "source": [
    "plt.figure(figsize=(10,5))\n",
    "for gender in df['Gender_Female'].unique():\n",
    "    data = reduced_data[df['Gender_Female']==gender]\n",
    "    plt.scatter(data[:,0], data[:,1], label=f\"Gender {gender}\")\n",
    "plt.legend();"
   ]
  },
  {
   "cell_type": "code",
   "execution_count": null,
   "id": "stylish-bristol",
   "metadata": {},
   "outputs": [],
   "source": []
  }
 ],
 "metadata": {
  "kernelspec": {
   "display_name": "Python 3",
   "language": "python",
   "name": "python3"
  },
  "language_info": {
   "codemirror_mode": {
    "name": "ipython",
    "version": 3
   },
   "file_extension": ".py",
   "mimetype": "text/x-python",
   "name": "python",
   "nbconvert_exporter": "python",
   "pygments_lexer": "ipython3",
   "version": "3.8.3"
  }
 },
 "nbformat": 4,
 "nbformat_minor": 5
}
